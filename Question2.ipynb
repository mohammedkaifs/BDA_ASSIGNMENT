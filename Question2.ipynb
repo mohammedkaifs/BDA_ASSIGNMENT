{
 "cells": [
  {
   "cell_type": "code",
   "execution_count": 1,
   "metadata": {},
   "outputs": [],
   "source": [
    "import requests\n",
    "import pandas as pd\n",
    "import re"
   ]
  },
  {
   "cell_type": "code",
   "execution_count": 2,
   "metadata": {},
   "outputs": [],
   "source": [
    "response = requests.get('http://api.citybik.es/v2/networks/to-bike')"
   ]
  },
  {
   "cell_type": "code",
   "execution_count": 3,
   "metadata": {},
   "outputs": [],
   "source": [
    "response.status_code\n",
    "response.json()\n",
    "data = response.json()\n"
   ]
  },
  {
   "cell_type": "code",
   "execution_count": 4,
   "metadata": {},
   "outputs": [],
   "source": [
    "df = pd.DataFrame()\n",
    "temp = {} "
   ]
  },
  {
   "cell_type": "code",
   "execution_count": 5,
   "metadata": {},
   "outputs": [],
   "source": [
    "stations = data['network']['stations']"
   ]
  },
  {
   "cell_type": "code",
   "execution_count": 6,
   "metadata": {},
   "outputs": [],
   "source": [
    "for station in stations:\n",
    "    name = re.sub(r'(\\d*[.][ ])', '', station['name'])\n",
    "    temp['Name'] = name\n",
    "    temp['Latitude'] = station['latitude']\n",
    "    temp['Longitude'] = station['longitude']\n",
    "    temp['Free_bikes'] = station['free_bikes']\n",
    "    temp['Empty_slots'] = station['empty_slots']\n",
    "    temp['Status'] = station['extra']['status']\n",
    "    df = pd.concat([df, pd.DataFrame(temp, index=[temp['Name']])], ignore_index=True)"
   ]
  },
  {
   "cell_type": "code",
   "execution_count": 7,
   "metadata": {},
   "outputs": [
    {
     "data": {
      "text/html": [
       "<div>\n",
       "<style scoped>\n",
       "    .dataframe tbody tr th:only-of-type {\n",
       "        vertical-align: middle;\n",
       "    }\n",
       "\n",
       "    .dataframe tbody tr th {\n",
       "        vertical-align: top;\n",
       "    }\n",
       "\n",
       "    .dataframe thead th {\n",
       "        text-align: right;\n",
       "    }\n",
       "</style>\n",
       "<table border=\"1\" class=\"dataframe\">\n",
       "  <thead>\n",
       "    <tr style=\"text-align: right;\">\n",
       "      <th></th>\n",
       "      <th>Name</th>\n",
       "      <th>Latitude</th>\n",
       "      <th>Longitude</th>\n",
       "      <th>Free_bikes</th>\n",
       "      <th>Empty_slots</th>\n",
       "      <th>Status</th>\n",
       "    </tr>\n",
       "  </thead>\n",
       "  <tbody>\n",
       "    <tr>\n",
       "      <th>0</th>\n",
       "      <td>Gerbido</td>\n",
       "      <td>45.044404</td>\n",
       "      <td>7.617624</td>\n",
       "      <td>5</td>\n",
       "      <td>3</td>\n",
       "      <td>offline</td>\n",
       "    </tr>\n",
       "    <tr>\n",
       "      <th>1</th>\n",
       "      <td>Fabbrichetta</td>\n",
       "      <td>45.067520</td>\n",
       "      <td>7.563057</td>\n",
       "      <td>5</td>\n",
       "      <td>3</td>\n",
       "      <td>offline</td>\n",
       "    </tr>\n",
       "    <tr>\n",
       "      <th>2</th>\n",
       "      <td>Borgo</td>\n",
       "      <td>45.056364</td>\n",
       "      <td>7.580996</td>\n",
       "      <td>5</td>\n",
       "      <td>3</td>\n",
       "      <td>offline</td>\n",
       "    </tr>\n",
       "    <tr>\n",
       "      <th>3</th>\n",
       "      <td>Villa Claretta</td>\n",
       "      <td>45.061715</td>\n",
       "      <td>7.581189</td>\n",
       "      <td>5</td>\n",
       "      <td>3</td>\n",
       "      <td>offline</td>\n",
       "    </tr>\n",
       "    <tr>\n",
       "      <th>4</th>\n",
       "      <td>Universita`</td>\n",
       "      <td>45.064792</td>\n",
       "      <td>7.588077</td>\n",
       "      <td>5</td>\n",
       "      <td>3</td>\n",
       "      <td>offline</td>\n",
       "    </tr>\n",
       "  </tbody>\n",
       "</table>\n",
       "</div>"
      ],
      "text/plain": [
       "             Name   Latitude  Longitude  Free_bikes  Empty_slots   Status\n",
       "0         Gerbido  45.044404   7.617624           5            3  offline\n",
       "1    Fabbrichetta  45.067520   7.563057           5            3  offline\n",
       "2           Borgo  45.056364   7.580996           5            3  offline\n",
       "3  Villa Claretta  45.061715   7.581189           5            3  offline\n",
       "4     Universita`  45.064792   7.588077           5            3  offline"
      ]
     },
     "execution_count": 7,
     "metadata": {},
     "output_type": "execute_result"
    }
   ],
   "source": [
    "df.head()"
   ]
  },
  {
   "cell_type": "code",
   "execution_count": 8,
   "metadata": {},
   "outputs": [
    {
     "name": "stdout",
     "output_type": "stream",
     "text": [
      "Total number of Free Bikes:  104\n",
      "Total number of Empty Slots:  94\n"
     ]
    }
   ],
   "source": [
    "print(\"Total number of Free Bikes: \", df['Free_bikes'].sum())\n",
    "print(\"Total number of Empty Slots: \", df['Empty_slots'].sum())"
   ]
  },
  {
   "cell_type": "code",
   "execution_count": 9,
   "metadata": {},
   "outputs": [
    {
     "data": {
      "text/plain": [
       "offline    19\n",
       "online      9\n",
       "Name: Status, dtype: int64"
      ]
     },
     "execution_count": 9,
     "metadata": {},
     "output_type": "execute_result"
    }
   ],
   "source": [
    "df['Status'].value_counts()"
   ]
  },
  {
   "cell_type": "code",
   "execution_count": 10,
   "metadata": {},
   "outputs": [],
   "source": [
    "from math import cos, acos, sin\n",
    "def distance_coords(lat1, lng1, lat2, lng2):\n",
    "    \"\"\"Compute the distance among two points.\"\"\"\n",
    "    deg2rad = lambda x: x * 3.141592 / 180 \n",
    "    lat1, lng1, lat2, lng2 = map(deg2rad, [ lat1, lng1, lat2, lng2 ])\n",
    "    R = 6378100 # Radius of the Earth, in meters\n",
    "    return R * acos(sin(lat1) * sin(lat2) + cos(lat1) * cos(lat2) * cos(lng1 - lng2))\n",
    "# Given Co-oridinates"
   ]
  },
  {
   "cell_type": "code",
   "execution_count": 11,
   "metadata": {},
   "outputs": [],
   "source": [
    "# Given Co-oridinates\n",
    "# lat, long = list(map(float, input(\"Enter the Latitude and Longitude: \").split()))\n",
    "lat, long = 45.114829, 7.641313\n",
    "# Find the nearest online station\n",
    "min_dist = 100000\n",
    "online_stations = df[df['Status'] == 'online']\n",
    "for i in range(len(online_stations)):\n",
    "    dist = distance_coords(lat, long, online_stations.iloc[i]['Latitude'], online_stations.iloc[i]['Longitude'])\n",
    "    if dist < min_dist:\n",
    "        min_dist = dist\n",
    "        station = online_stations.iloc[i]['Name']"
   ]
  },
  {
   "cell_type": "code",
   "execution_count": 12,
   "metadata": {},
   "outputs": [
    {
     "name": "stdout",
     "output_type": "stream",
     "text": [
      "Nearest Online Station:  Gallo Praile\n",
      "Distance:  0.0\n"
     ]
    }
   ],
   "source": [
    "print(\"Nearest Online Station: \", station)\n",
    "print(\"Distance: \", min_dist)"
   ]
  }
 ],
 "metadata": {
  "kernelspec": {
   "display_name": "Python 3",
   "language": "python",
   "name": "python3"
  },
  "language_info": {
   "codemirror_mode": {
    "name": "ipython",
    "version": 3
   },
   "file_extension": ".py",
   "mimetype": "text/x-python",
   "name": "python",
   "nbconvert_exporter": "python",
   "pygments_lexer": "ipython3",
   "version": "3.9.7"
  }
 },
 "nbformat": 4,
 "nbformat_minor": 2
}
